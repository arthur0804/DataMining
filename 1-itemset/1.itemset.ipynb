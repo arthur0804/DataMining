{
 "cells": [
  {
   "cell_type": "markdown",
   "metadata": {},
   "source": [
    "### Apriori"
   ]
  },
  {
   "cell_type": "code",
   "execution_count": 72,
   "metadata": {},
   "outputs": [],
   "source": [
    "# load the data, and here we simply create some example data\n",
    "def load_data(): \n",
    "    dataset = [[1,3,4],[2,3,5],[1,2,3,5],[2,5]]\n",
    "    return dataset"
   ]
  },
  {
   "cell_type": "code",
   "execution_count": 73,
   "metadata": {},
   "outputs": [],
   "source": [
    "def createC1(dataset):\n",
    "    C1 = []\n",
    "    for row in dataset:  #scan each row\n",
    "        for item in row: #scan each item in each row\n",
    "            if not [item] in C1:\n",
    "                C1.append([item])\n",
    "    C1.sort()\n",
    "    return map(frozenset, C1)"
   ]
  },
  {
   "cell_type": "code",
   "execution_count": 80,
   "metadata": {},
   "outputs": [],
   "source": [
    "def scanD(dataset, candidate, minSupport):\n",
    "    candidate_dict = {} # a dictionary which stores <candidate, frequency>\n",
    "    \n",
    "    # scan each candidate in the dataset and find the frequency\n",
    "    for row in dataset: # each row\n",
    "        for item in candidate: # each candidate\n",
    "            if item.issubset(row): # subset checks row contains the candidate or not\n",
    "                if not item in candidate_dict:\n",
    "                    candidate_dict[item] = 1\n",
    "                else:\n",
    "                    candidate_dict[item] += 1\n",
    "    \n",
    "    numRows = float(len(dataset))\n",
    "    validItemList = [] # valid candidate list\n",
    "    supportData = {}\n",
    "    \n",
    "    # calculate support for each candidate and prune\n",
    "    for key in candidate_dict:\n",
    "        support = candidate_dict[key] / numRows\n",
    "        if support >= minSupport:\n",
    "            validItemList.insert(0,key) # add valid candidates into the list\n",
    "        supportData[key] = support # save the support data\n",
    "    \n",
    "    return validItemList, supportData"
   ]
  },
  {
   "cell_type": "code",
   "execution_count": 75,
   "metadata": {},
   "outputs": [],
   "source": [
    "# CandidateListK is the k-th list(table) of itemsets, k is the number of items in each row\n",
    "def aprioriGenerate(CandidateListK, k):\n",
    "    newList = []\n",
    "    lenk = len(CandidateListK)\n",
    "    for i in range(lenk): # scan each row in the candidate list\n",
    "        for j in range(i + 1, lenk): # scan other rows\n",
    "            L1 = list(CandidateListK[i])[:k-2]  \n",
    "            L2 = list(CandidateListK[j])[:k-2]\n",
    "            if L1 == L2:\n",
    "                newList.append(CandidateListK[i] | CandidateListK[j])\n",
    "    return newList"
   ]
  },
  {
   "cell_type": "code",
   "execution_count": 76,
   "metadata": {},
   "outputs": [],
   "source": [
    "def apriori(dataset, minSupport = 0.5):  \n",
    "    # from size 1\n",
    "    C1 = list(createC1(load_data())) # frequent 1-item set\n",
    "    dataset = list(map(set, load_data())) # whole data set\n",
    "    L1, supportData = scanD(dataset, C1, minSupport)\n",
    "    \n",
    "    # list of candidates at each step\n",
    "    L = [L1]\n",
    "    k = 2\n",
    "    # if the length of itemset at k-th step is k-1, then the first k-2 items should be the same\n",
    "    while(len(L[k-2]) > 0):\n",
    "        CandidateListK = aprioriGenerate(L[k-2],k)\n",
    "        Lk, supportK = scanD(dataset, CandidateListK, minSupport)\n",
    "        supportData.update(supportK)\n",
    "        L.append(Lk)\n",
    "        k += 1\n",
    "    return L, supportData"
   ]
  },
  {
   "cell_type": "code",
   "execution_count": 89,
   "metadata": {},
   "outputs": [
    {
     "name": "stdout",
     "output_type": "stream",
     "text": [
      "frequency of: 1 [frozenset({5}), frozenset({2}), frozenset({3}), frozenset({1})] \n",
      "\n",
      "frequency of: 2 [frozenset({2, 3}), frozenset({3, 5}), frozenset({2, 5}), frozenset({1, 3})] \n",
      "\n",
      "frequency of: 3 [frozenset({2, 3, 5})] \n",
      "\n",
      "frequency of: 4 [] \n",
      "\n"
     ]
    }
   ],
   "source": [
    "# run\n",
    "L, supportData = apriori(dataset)\n",
    "i = 0\n",
    "for j in L:\n",
    "    print (\"frequency of: {}\".format(i + 1), j , \"\\n\")\n",
    "    i +=1"
   ]
  },
  {
   "cell_type": "code",
   "execution_count": 6,
   "metadata": {},
   "outputs": [
    {
     "name": "stdout",
     "output_type": "stream",
     "text": [
      "[{cheese} -> {bacon}, {eggs} -> {bacon}, {soup} -> {bacon}, {eggs} -> {cheese}, {cheese} -> {eggs}, {cheese, eggs} -> {bacon}, {bacon, eggs} -> {cheese}, {bacon, cheese} -> {eggs}, {eggs} -> {bacon, cheese}, {cheese} -> {bacon, eggs}]\n"
     ]
    }
   ],
   "source": [
    "# There is an existring library which implements the Apriori algorithm\n",
    "from efficient_apriori import apriori\n",
    "\n",
    "transactions = [('eggs', 'bacon', 'soup', 'cheese'),\n",
    "                ('eggs', 'bacon', 'apple', 'cheese'),\n",
    "                ('soup', 'bacon', 'banana', 'milk')]\n",
    "\n",
    "itemsets, rules = apriori(transactions, min_support=0.5,  min_confidence=1)\n",
    "\n",
    "print(rules) "
   ]
  },
  {
   "cell_type": "markdown",
   "metadata": {},
   "source": [
    "### FP-growth"
   ]
  },
  {
   "cell_type": "code",
   "execution_count": 1,
   "metadata": {},
   "outputs": [],
   "source": [
    "import pyfpgrowth"
   ]
  },
  {
   "cell_type": "code",
   "execution_count": 2,
   "metadata": {},
   "outputs": [],
   "source": [
    "transactions = [[1, 2, 5],\n",
    "                [2, 4],\n",
    "                [2, 3],\n",
    "                [1, 2, 4],\n",
    "                [1, 3],\n",
    "                [2, 3],\n",
    "                [1, 3],\n",
    "                [1, 2, 3, 5],\n",
    "                [1, 2, 3]]"
   ]
  },
  {
   "cell_type": "code",
   "execution_count": 3,
   "metadata": {},
   "outputs": [],
   "source": [
    "# threshold : 2\n",
    "patterns = pyfpgrowth.find_frequent_patterns(transactions, 2)"
   ]
  },
  {
   "cell_type": "code",
   "execution_count": 6,
   "metadata": {},
   "outputs": [
    {
     "name": "stdout",
     "output_type": "stream",
     "text": [
      "{(5,): ((1, 2), 1.0), (1, 5): ((2,), 1.0), (2, 5): ((1,), 1.0), (4,): ((2,), 1.0)}\n"
     ]
    }
   ],
   "source": [
    "# minimum support: 0.7\n",
    "rules = pyfpgrowth.generate_association_rules(patterns, 0.7)\n",
    "print(rules)"
   ]
  }
 ],
 "metadata": {
  "kernelspec": {
   "display_name": "Python 3",
   "language": "python",
   "name": "python3"
  },
  "language_info": {
   "codemirror_mode": {
    "name": "ipython",
    "version": 3
   },
   "file_extension": ".py",
   "mimetype": "text/x-python",
   "name": "python",
   "nbconvert_exporter": "python",
   "pygments_lexer": "ipython3",
   "version": "3.7.0"
  }
 },
 "nbformat": 4,
 "nbformat_minor": 2
}
